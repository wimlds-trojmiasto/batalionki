{
 "cells": [
  {
   "cell_type": "code",
   "execution_count": 39,
   "metadata": {},
   "outputs": [],
   "source": [
    "import xenocanto\n",
    "import pandas as pd\n",
    "import json"
   ]
  },
  {
   "cell_type": "code",
   "execution_count": 40,
   "metadata": {},
   "outputs": [],
   "source": [
    "json_list = xenocanto.get_json(['cnt:poland', 'q>:C', 'type:song'])\n",
    "#mp3_list = xenocanto.get_mp3(json_list)"
   ]
  },
  {
   "cell_type": "code",
   "execution_count": 49,
   "metadata": {},
   "outputs": [],
   "source": [
    "file = 'queries/cnt|poland_q>|C_type|song/page1.json'"
   ]
  },
  {
   "cell_type": "code",
   "execution_count": 76,
   "metadata": {},
   "outputs": [],
   "source": [
    "def read_json(path):    \n",
    "    with open(path) as train_file:\n",
    "        dict_train = json.load(train_file)\n",
    "    dfObj = pd.DataFrame(dict_train['recordings']) \n",
    "    grouped = dfObj.groupby(['en']).size().sort_values(ascending=False)\n",
    "    print(grouped)"
   ]
  },
  {
   "cell_type": "code",
   "execution_count": 77,
   "metadata": {},
   "outputs": [
    {
     "name": "stdout",
     "output_type": "stream",
     "text": [
      "en\n",
      "Corn Crake                71\n",
      "Common Cuckoo             33\n",
      "Tawny Owl                 28\n",
      "Hazel Grouse              26\n",
      "Spotted Crake             23\n",
      "Common Snipe              22\n",
      "Stock Dove                19\n",
      "Eurasian Woodcock         18\n",
      "Eurasian Bittern          18\n",
      "Common Quail              15\n",
      "Common Crane              14\n",
      "Little Crake              13\n",
      "European Turtle Dove      12\n",
      "Common Wood Pigeon        12\n",
      "Eurasian Collared Dove    10\n",
      "Black-tailed Godwit       10\n",
      "Great Snipe                9\n",
      "Little Bittern             8\n",
      "Eurasian Teal              8\n",
      "Eurasian Curlew            8\n",
      "Water Rail                 7\n",
      "Mallard                    7\n",
      "Northern Pintail           6\n",
      "Mandarin Duck              5\n",
      "Long-tailed Duck           5\n",
      "Whooper Swan               5\n",
      "Garganey                   5\n",
      "Eurasian Eagle-Owl         5\n",
      "Grey Partridge             4\n",
      "Rock Dove                  4\n",
      "                          ..\n",
      "Western Marsh Harrier      2\n",
      "Little Ringed Plover       2\n",
      "Western Barn Owl           2\n",
      "Ferruginous Duck           1\n",
      "Northern Shoveler          1\n",
      "White-winged Tern          1\n",
      "Black-necked Grebe         1\n",
      "White-tailed Eagle         1\n",
      "Caspian Gull               1\n",
      "Common Buzzard             1\n",
      "Western Osprey             1\n",
      "Western Capercaillie       1\n",
      "Tufted Duck                1\n",
      "Common Pochard             1\n",
      "Smew                       1\n",
      "Common Sandpiper           1\n",
      "Common Ringed Plover       1\n",
      "European Herring Gull      1\n",
      "Mute Swan                  1\n",
      "Montagu's Harrier          1\n",
      "Little Tern                1\n",
      "Little Grebe               1\n",
      "Indian Peafowl             1\n",
      "Greylag Goose              1\n",
      "Eurasian Oystercatcher     1\n",
      "Eurasian Scops Owl         1\n",
      "Grey Heron                 1\n",
      "Eurasian Wigeon            1\n",
      "Great Cormorant            1\n",
      "Great Egret                1\n",
      "Length: 74, dtype: int64\n"
     ]
    }
   ],
   "source": [
    "read_json('queries/cnt|poland_q>|C_type|song/page1.json')"
   ]
  },
  {
   "cell_type": "code",
   "execution_count": 74,
   "metadata": {},
   "outputs": [],
   "source": []
  },
  {
   "cell_type": "code",
   "execution_count": null,
   "metadata": {},
   "outputs": [],
   "source": []
  }
 ],
 "metadata": {
  "kernelspec": {
   "display_name": "Python 3",
   "language": "python",
   "name": "python3"
  },
  "language_info": {
   "codemirror_mode": {
    "name": "ipython",
    "version": 3
   },
   "file_extension": ".py",
   "mimetype": "text/x-python",
   "name": "python",
   "nbconvert_exporter": "python",
   "pygments_lexer": "ipython3",
   "version": "3.7.3"
  }
 },
 "nbformat": 4,
 "nbformat_minor": 2
}
