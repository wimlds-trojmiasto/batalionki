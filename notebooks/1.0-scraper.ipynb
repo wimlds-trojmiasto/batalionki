{
 "cells": [
  {
   "cell_type": "code",
   "execution_count": 39,
   "metadata": {},
   "outputs": [],
   "source": [
    "import xenocanto\n",
    "import pandas as pd\n",
    "import json"
   ]
  },
  {
   "cell_type": "code",
   "execution_count": 40,
   "metadata": {},
   "outputs": [],
   "source": [
    "json_list = xenocanto.get_json(['cnt:poland', 'q>:C', 'type:song'])\n",
    "#mp3_list = xenocanto.get_mp3(json_list)"
   ]
  },
  {
   "cell_type": "code",
   "execution_count": 49,
   "metadata": {},
   "outputs": [],
   "source": [
    "file = 'queries/cnt|poland_q>|C_type|song/page1.json'"
   ]
  },
  {
   "cell_type": "code",
   "execution_count": 90,
   "metadata": {},
   "outputs": [],
   "source": [
    "def read_json(path):    \n",
    "    with open(path) as train_file:\n",
    "        dict_train = json.load(train_file)\n",
    "    dfObj = pd.DataFrame(dict_train['recordings']) \n",
    "    return dfObj"
   ]
  },
  {
   "cell_type": "code",
   "execution_count": 91,
   "metadata": {},
   "outputs": [],
   "source": [
    "page1 = read_json('queries/cnt|poland_q>|C_type|song/page1.json')\n",
    "page2 = read_json('queries/cnt|poland_q>|C_type|song/page2.json')\n",
    "page3 = read_json('queries/cnt|poland_q>|C_type|song/page3.json')\n",
    "page4 = read_json('queries/cnt|poland_q>|C_type|song/page4.json')\n",
    "page5 = read_json('queries/cnt|poland_q>|C_type|song/page5.json')\n",
    "page6 = read_json('queries/cnt|poland_q>|C_type|song/page6.json')\n",
    "page7 = read_json('queries/cnt|poland_q>|C_type|song/page7.json')\n",
    "page8 = read_json('queries/cnt|poland_q>|C_type|song/page8.json')\n",
    "page9 = read_json('queries/cnt|poland_q>|C_type|song/page9.json')"
   ]
  },
  {
   "cell_type": "code",
   "execution_count": 94,
   "metadata": {},
   "outputs": [],
   "source": [
    "df = pd.DataFrame()\n",
    "for d in (page1, page2, page3, page4, page5, page6, page7, page8, page9):\n",
    "    df =  df.append(d, ignore_index=True)"
   ]
  },
  {
   "cell_type": "code",
   "execution_count": null,
   "metadata": {},
   "outputs": [],
   "source": [
    "grouped = df.groupby(['en']).size().sort_values(ascending=False)\n"
   ]
  }
 ],
 "metadata": {
  "kernelspec": {
   "display_name": "Python 3",
   "language": "python",
   "name": "python3"
  },
  "language_info": {
   "codemirror_mode": {
    "name": "ipython",
    "version": 3
   },
   "file_extension": ".py",
   "mimetype": "text/x-python",
   "name": "python",
   "nbconvert_exporter": "python",
   "pygments_lexer": "ipython3",
   "version": "3.7.3"
  }
 },
 "nbformat": 4,
 "nbformat_minor": 2
}
